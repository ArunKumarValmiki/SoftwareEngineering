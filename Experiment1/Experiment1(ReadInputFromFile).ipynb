{
 "cells": [
  {
   "cell_type": "code",
   "execution_count": 1,
   "id": "68e8b82c-f94f-435e-b03b-7443fbc33e2f",
   "metadata": {},
   "outputs": [
    {
     "name": "stdout",
     "output_type": "stream",
     "text": [
      "Loaded 5 roll numbers from roll_numbers.txt\n",
      "Enter roll numbers of present students (type 'done' to finish):\n"
     ]
    },
    {
     "name": "stdin",
     "output_type": "stream",
     "text": [
      "Enter roll number:  1342\n",
      "Enter roll number:  0178\n",
      "Enter roll number:  1190\n",
      "Enter roll number:  1343\n",
      "Enter roll number:  1457\n",
      "Enter roll number:  9833\n",
      "Enter roll number:  done\n"
     ]
    },
    {
     "name": "stdout",
     "output_type": "stream",
     "text": [
      "\n",
      "Attendance:\n",
      "Roll 1342: Present\n",
      "Roll 0178: Present\n",
      "Roll 1457: Present\n",
      "Roll 1643: Absent\n",
      "Roll 2000: Absent\n",
      "Attendance saved to attendance.txt\n"
     ]
    }
   ],
   "source": [
    "def read_roll_numbers_from_file(file_path):\n",
    "    \"\"\"Read roll numbers from a file.\"\"\"\n",
    "    try:\n",
    "        with open(file_path, \"r\") as file:\n",
    "            roll_numbers = [line.strip() for line in file.readlines()]\n",
    "        print(f\"Loaded {len(roll_numbers)} roll numbers from {file_path}\")\n",
    "        return roll_numbers\n",
    "    except FileNotFoundError:\n",
    "        print(f\"File '{file_path}' not found. Please create the file with roll numbers.\")\n",
    "        return []\n",
    "\n",
    "def mark_attendance(roll_numbers, present_roll_numbers):\n",
    "    \"\"\"Mark attendance based on roll numbers.\"\"\"\n",
    "    attendance = {}\n",
    "    for roll in roll_numbers:\n",
    "        if roll in present_roll_numbers:\n",
    "            attendance[roll] = \"Present\"\n",
    "        else:\n",
    "            attendance[roll] = \"Absent\"\n",
    "    return attendance\n",
    "\n",
    "def get_present_roll_numbers():\n",
    "    \"\"\"Input roll numbers of present students.\"\"\"\n",
    "    print(\"Enter roll numbers of present students (type 'done' to finish):\")\n",
    "    present_roll_numbers = []\n",
    "    while True:\n",
    "        roll = input(\"Enter roll number: \")\n",
    "        if roll.lower() == \"done\":\n",
    "            break\n",
    "        present_roll_numbers.append(roll)\n",
    "    return present_roll_numbers\n",
    "\n",
    "def save_attendance_to_file(attendance, file_path):\n",
    "    \"\"\"Save attendance to a file.\"\"\"\n",
    "    try:\n",
    "        with open(file_path, \"w\") as file:\n",
    "            for roll, status in attendance.items():\n",
    "                file.write(f\"{roll}: {status}\\n\")\n",
    "        print(f\"Attendance saved to {file_path}\")\n",
    "    except Exception as e:\n",
    "        print(f\"Error saving attendance: {e}\")\n",
    "\n",
    "def main():\n",
    "    roll_numbers_file = \"roll_numbers.txt\"\n",
    "    attendance_file = \"attendance.txt\"\n",
    "\n",
    "    # Read roll numbers from file\n",
    "    roll_numbers = read_roll_numbers_from_file(roll_numbers_file)\n",
    "    if not roll_numbers:\n",
    "        return\n",
    "\n",
    "    # Mark attendance\n",
    "    present_roll_numbers = get_present_roll_numbers()\n",
    "    attendance = mark_attendance(roll_numbers, present_roll_numbers)\n",
    "\n",
    "    # Print and save attendance\n",
    "    print(\"\\nAttendance:\")\n",
    "    for roll, status in attendance.items():\n",
    "        print(f\"Roll {roll}: {status}\")\n",
    "    save_attendance_to_file(attendance, attendance_file)\n",
    "\n",
    "if __name__ == \"__main__\":\n",
    "    main()\n"
   ]
  },
  {
   "cell_type": "code",
   "execution_count": null,
   "id": "113f69a8-8beb-4cda-9f80-dd73b4bba25d",
   "metadata": {},
   "outputs": [],
   "source": []
  },
  {
   "cell_type": "code",
   "execution_count": null,
   "id": "f5bfb3b0-7258-4617-858a-63afc8b85bf2",
   "metadata": {},
   "outputs": [],
   "source": []
  },
  {
   "cell_type": "code",
   "execution_count": null,
   "id": "fbbf118e-c0b0-49a3-a712-4ad1147f7247",
   "metadata": {},
   "outputs": [],
   "source": []
  },
  {
   "cell_type": "code",
   "execution_count": null,
   "id": "6b4d2abc-2934-4446-b1d5-89a4fcad0f37",
   "metadata": {},
   "outputs": [],
   "source": []
  },
  {
   "cell_type": "code",
   "execution_count": null,
   "id": "bb5af11f-694f-421a-913a-f3a0992df9cd",
   "metadata": {},
   "outputs": [],
   "source": []
  }
 ],
 "metadata": {
  "kernelspec": {
   "display_name": "Python 3 (ipykernel)",
   "language": "python",
   "name": "python3"
  },
  "language_info": {
   "codemirror_mode": {
    "name": "ipython",
    "version": 3
   },
   "file_extension": ".py",
   "mimetype": "text/x-python",
   "name": "python",
   "nbconvert_exporter": "python",
   "pygments_lexer": "ipython3",
   "version": "3.11.7"
  }
 },
 "nbformat": 4,
 "nbformat_minor": 5
}
